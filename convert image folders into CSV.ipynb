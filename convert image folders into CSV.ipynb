{
 "cells": [
  {
   "cell_type": "code",
   "execution_count": 25,
   "metadata": {},
   "outputs": [
    {
     "name": "stdout",
     "output_type": "stream",
     "text": [
      "['TRAINSET', 'TRAINSETfiles_path.csv', 'test'] ['Alert', 'Drowsy']\n"
     ]
    }
   ],
   "source": [
    "import os\n",
    "import pandas as pd\n",
    "\n",
    "\n",
    "train_annotation = 'F:/THESIS/4.2FinalPartCode/TrainDataset/TRAINSET'\n",
    "\n",
    "files_in_annotated = sorted(os.listdir(train_annotation))\n",
    "print(files_in_train,files_in_annotated)\n",
    "\n",
    "images=[i for i in files_in_train if i in files_in_annotated]"
   ]
  },
  {
   "cell_type": "code",
   "execution_count": 26,
   "metadata": {},
   "outputs": [
    {
     "name": "stdout",
     "output_type": "stream",
     "text": [
      "127.jpg Alert\n",
      "128.jpg Alert\n",
      "129.jpg Alert\n",
      "130.jpg Alert\n",
      "132.jpg Alert\n",
      "133.jpg Alert\n",
      "136.jpg Alert\n",
      "137.jpg Alert\n",
      "139.jpg Alert\n",
      "140.jpg Alert\n",
      "142.jpg Alert\n",
      "147.jpg Alert\n",
      "154.jpg Alert\n",
      "158.jpg Alert\n",
      "159.jpg Alert\n",
      "163.jpg Alert\n",
      "170.jpg Alert\n",
      "171.jpg Alert\n",
      "172.jpg Alert\n",
      "173.jpg Alert\n",
      "175.jpg Alert\n",
      "176.jpg Alert\n",
      "177.jpg Alert\n",
      "178.jpg Alert\n",
      "193.jpg Alert\n",
      "194.jpg Alert\n",
      "a.jpg Alert\n",
      "b.jpg Alert\n",
      "c.jpg Alert\n",
      "d.jpg Alert\n",
      "e.jpg Alert\n",
      "f.jpg Alert\n",
      "g.jpg Alert\n",
      "h.jpg Alert\n",
      "i.jpg Alert\n",
      "j.jpg Alert\n",
      "k.jpg Alert\n",
      "l.jpg Alert\n",
      "m.jpg Alert\n",
      "n.jpg Alert\n",
      "o.jpg Alert\n",
      "p.jpg Alert\n",
      "q.jpg Alert\n",
      "r.jpg Alert\n",
      "s.jpg Alert\n",
      "t.jpg Alert\n",
      "u.jpg Alert\n",
      "v.jpg Alert\n",
      "w.jpg Alert\n",
      "x.jpg Alert\n",
      "y.jpg Alert\n",
      "z.jpg Alert\n",
      "a.jpg Drowsy\n",
      "b.jpg Drowsy\n",
      "c.jpg Drowsy\n",
      "d.jpg Drowsy\n",
      "e.jpg Drowsy\n",
      "f.jpg Drowsy\n",
      "g.jpg Drowsy\n",
      "h.jpg Drowsy\n",
      "i.jpg Drowsy\n",
      "j.jpg Drowsy\n",
      "k.jpg Drowsy\n",
      "l.jpg Drowsy\n",
      "m.jpg Drowsy\n",
      "n.jpg Drowsy\n",
      "o.jpg Drowsy\n",
      "p.jpg Drowsy\n",
      "q.jpg Drowsy\n",
      "r.jpg Drowsy\n",
      "s.jpg Drowsy\n",
      "t.jpg Drowsy\n",
      "u.jpg Drowsy\n",
      "v.jpg Drowsy\n",
      "w.jpg Drowsy\n",
      "x.jpg Drowsy\n",
      "y.jpg Drowsy\n",
      "z.jpg Drowsy\n"
     ]
    }
   ],
   "source": [
    "image=[]\n",
    "label=[]\n",
    "for file in files_in_annotated:\n",
    "    for img in os.listdir(train_annotation+'/'+file):\n",
    "        print(img, file)\n",
    "        image.append(img)\n",
    "        label.append(file)"
   ]
  },
  {
   "cell_type": "code",
   "execution_count": 27,
   "metadata": {},
   "outputs": [],
   "source": [
    "df = pd.DataFrame()\n",
    "df['images']=[str(x) for x in image]\n",
    "df['labels']=[str(x) for x in label]"
   ]
  },
  {
   "cell_type": "code",
   "execution_count": 28,
   "metadata": {},
   "outputs": [],
   "source": [
    "df.to_csv(train_annotation+'files_path.csv', header=None)"
   ]
  },
  {
   "cell_type": "code",
   "execution_count": null,
   "metadata": {},
   "outputs": [],
   "source": []
  }
 ],
 "metadata": {
  "kernelspec": {
   "display_name": "Python 3",
   "language": "python",
   "name": "python3"
  },
  "language_info": {
   "codemirror_mode": {
    "name": "ipython",
    "version": 3
   },
   "file_extension": ".py",
   "mimetype": "text/x-python",
   "name": "python",
   "nbconvert_exporter": "python",
   "pygments_lexer": "ipython3",
   "version": "3.7.3"
  }
 },
 "nbformat": 4,
 "nbformat_minor": 2
}
