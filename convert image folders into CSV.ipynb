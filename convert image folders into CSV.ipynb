{
 "cells": [
  {
   "cell_type": "code",
   "execution_count": 25,
   "metadata": {},
   "outputs": [
    {
     "name": "stdout",
     "output_type": "stream",
     "text": [
      "['TRAINSET', 'TRAINSETfiles_path.csv', 'test'] ['Alert', 'Drowsy']\n"
     ]
    }
   ],
   "source": [
    "import os\n",
    "import pandas as pd\n",
    "\n",
    "\n",
    "train_annotation = 'F:/THESIS/4.2FinalPartCode/TrainDataset/TRAINSET'\n",
    "\n",
    "files_in_annotated = sorted(os.listdir(train_annotation))\n",
    "print(files_in_train,files_in_annotated)\n",
    "\n",
    "images=[i for i in files_in_train if i in files_in_annotated]"
   ]
  },
 
   "source": [
    "image=[]\n",
    "label=[]\n",
    "for file in files_in_annotated:\n",
    "    for img in os.listdir(train_annotation+'/'+file):\n",
    "        print(img, file)\n",
    "        image.append(img)\n",
    "        label.append(file)"
   ]
  },
  {
   "cell_type": "code",
   "execution_count": 27,
   "metadata": {},
   "outputs": [],
   "source": [
    "df = pd.DataFrame()\n",
    "df['images']=[str(x) for x in image]\n",
    "df['labels']=[str(x) for x in label]"
   ]
  },
  {
   "cell_type": "code",
   "execution_count": 28,
   "metadata": {},
   "outputs": [],
   "source": [
    "df.to_csv('files_path.csv', header=None)"
   ]
  },
  {
   "cell_type": "code",
   "execution_count": null,
   "metadata": {},
   "outputs": [],
   "source": []
  }
 ],
 "metadata": {
  "kernelspec": {
   "display_name": "Python 3",
   "language": "python",
   "name": "python3"
  },
  "language_info": {
   "codemirror_mode": {
    "name": "ipython",
    "version": 3
   },
   "file_extension": ".py",
   "mimetype": "text/x-python",
   "name": "python",
   "nbconvert_exporter": "python",
   "pygments_lexer": "ipython3",
   "version": "3.7.3"
  }
 },
 "nbformat": 4,
 "nbformat_minor": 2
}
